{
 "cells": [
  {
   "cell_type": "code",
   "execution_count": 1,
   "id": "bb69b231",
   "metadata": {},
   "outputs": [],
   "source": [
    "import cv2"
   ]
  },
  {
   "cell_type": "code",
   "execution_count": 2,
   "id": "3ec1fcf8",
   "metadata": {},
   "outputs": [],
   "source": [
    "#callback_function\n",
    "def draw_rectangle(event,x,y,flags,param):\n",
    "    \n",
    "    global p1,p2,topleft_clicked,bottomright_clicked\n",
    "    \n",
    "    if event==cv2.EVENT_LBUTTONDOWN:\n",
    "        \n",
    "        #reset the circle (it checks if the circle is there)\n",
    "        if topleft_clicked == True and bottomright_clicked == True:\n",
    "            p1=(0,0)\n",
    "            p2=(0,0)\n",
    "            topleft_clicked=False\n",
    "            bottomright_clicked=False\n",
    "            \n",
    "        if topleft_clicked == False:\n",
    "            p1=(x,y)\n",
    "            topleft_clicked=True\n",
    "        \n",
    "        elif bottomright_clicked==False:\n",
    "            p2=(x,y)\n",
    "            bottomright_clicked=True\n",
    "            \n",
    "            \n",
    "\n",
    "\n",
    "#global_variables\n",
    "p1=(0,0)\n",
    "p2=(0,0)\n",
    "topleft_clicked=False\n",
    "bottomright_clicked=False\n",
    "\n",
    "#connect_to_the_callback\n",
    "cap=cv2.VideoCapture(0)\n",
    "\n",
    "cv2.namedWindow('Test')\n",
    "cv2.setMouseCallback('Test',draw_rectangle)\n",
    "\n",
    "\n",
    "while True:\n",
    "    \n",
    "    #tuple_unpacking\n",
    "    ret,frame=cap.read()\n",
    "    \n",
    "    #drawing_on_the_frame_based_on_global_variables\n",
    "    if topleft_clicked==True:\n",
    "        cv2.circle(frame,center=p1,radius=5,color=(0,0,255),thickness=-1)\n",
    "        \n",
    "    if topleft_clicked and bottomright_clicked:\n",
    "        cv2.rectangle(frame,p1,p2,(0,0,255),3)\n",
    "        \n",
    "    \n",
    "    cv2.imshow('Test',frame)\n",
    "    \n",
    "    if cv2.waitKey(1) & 0xFF == ord('q'):\n",
    "        break\n",
    "        \n",
    "cap.release()\n",
    "cv2.destroyAllWindows()"
   ]
  },
  {
   "cell_type": "code",
   "execution_count": null,
   "id": "3b9f9273",
   "metadata": {},
   "outputs": [],
   "source": []
  },
  {
   "cell_type": "code",
   "execution_count": null,
   "id": "c2f92928",
   "metadata": {},
   "outputs": [],
   "source": []
  }
 ],
 "metadata": {
  "kernelspec": {
   "display_name": "Python 3 (ipykernel)",
   "language": "python",
   "name": "python3"
  },
  "language_info": {
   "codemirror_mode": {
    "name": "ipython",
    "version": 3
   },
   "file_extension": ".py",
   "mimetype": "text/x-python",
   "name": "python",
   "nbconvert_exporter": "python",
   "pygments_lexer": "ipython3",
   "version": "3.10.9"
  }
 },
 "nbformat": 4,
 "nbformat_minor": 5
}
